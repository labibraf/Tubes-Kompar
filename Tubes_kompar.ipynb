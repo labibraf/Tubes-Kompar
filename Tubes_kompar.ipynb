{
 "cells": [
  {
   "cell_type": "code",
   "execution_count": null,
   "metadata": {},
   "outputs": [],
   "source": [
    "!pip install easyocr"
   ]
  },
  {
   "cell_type": "code",
   "execution_count": null,
   "metadata": {},
   "outputs": [],
   "source": [
    "import easyocr\n",
    "import cv2\n",
    "import numpy as np\n",
    "import multiprocessing\n",
    "import matplotlib.pyplot as plt\n",
    "import pickle\n",
    "import time\n",
    "import concurrent.futures"
   ]
  },
  {
   "cell_type": "code",
   "execution_count": null,
   "metadata": {},
   "outputs": [],
   "source": [
    "img_path = '/content/plat nomor.jpg'\n",
    "img_path2 = '/content/plat nomor 2.jpg'"
   ]
  },
  {
   "cell_type": "code",
   "execution_count": null,
   "metadata": {},
   "outputs": [],
   "source": [
    "import cv2\n",
    "import easyocr\n",
    "\n",
    "# Mendefinisikan path gambar\n",
    "img_path = '/content/plat nomor.jpg'\n",
    "img_path2 = '/content/plat nomor 2.jpg'\n",
    "\n",
    "# Membaca teks dari gambar\n",
    "reader = easyocr.Reader(['en'])\n",
    "result = reader.readtext(img_path)\n",
    "\n",
    "\n",
    "# Melakukan serialisasi objek result menggunakan pickle\n",
    "serialized_result = pickle.dumps(result)\n",
    "\n",
    "# Menyimpan hasil serialisasi ke file\n",
    "with open('serialized_result.pkl', 'wb') as f:\n",
    "    f.write(serialized_result)"
   ]
  },
  {
   "cell_type": "code",
   "execution_count": null,
   "metadata": {},
   "outputs": [],
   "source": [
    "# Menampilkan gambar menggunakan OpenCV\n",
    "img = cv2.imread(img_path)\n",
    "plt.imshow(img)\n",
    "plt.show()"
   ]
  },
  {
   "cell_type": "code",
   "execution_count": null,
   "metadata": {},
   "outputs": [],
   "source": [
    "# Membuka file serialized_result.pkl\n",
    "with open('serialized_result.pkl', 'rb') as f:\n",
    "    serialized_result = f.read()\n",
    "\n",
    "# Melakukan deserialisasi objek menggunakan pickle\n",
    "result = pickle.loads(serialized_result)\n",
    "\n",
    "# Menggunakan objek yang telah di-deserialisasi\n",
    "for item in result:\n",
    "    print(item)"
   ]
  },
  {
   "cell_type": "code",
   "execution_count": null,
   "metadata": {},
   "outputs": [],
   "source": [
    "# Membaca teks dari gambar\n",
    "reader = easyocr.Reader(['en'])\n",
    "result2 = reader.readtext(img_path2)\n",
    "\n",
    "# Melakukan serialisasi objek result menggunakan pickle\n",
    "serialized_result2 = pickle.dumps(result2)\n",
    "\n",
    "# Menyimpan hasil serialisasi ke file\n",
    "with open('serialized_result2.pkl', 'wb') as f:\n",
    "    f.write(serialized_result2)"
   ]
  },
  {
   "cell_type": "code",
   "execution_count": null,
   "metadata": {},
   "outputs": [],
   "source": [
    "# Membuka file serialized_result.pkl\n",
    "with open('serialized_result2.pkl', 'rb') as f:\n",
    "    serialized_result2 = f.read()\n",
    "\n",
    "# Melakukan deserialisasi objek menggunakan pickle\n",
    "result2 = pickle.loads(serialized_result2)\n",
    "\n",
    "# Menggunakan objek yang telah di-deserialisasi\n",
    "for item in result2:\n",
    "    print(item)"
   ]
  },
  {
   "cell_type": "code",
   "execution_count": null,
   "metadata": {},
   "outputs": [],
   "source": [
    "img2 = cv2.imread(img_path2)\n",
    "plt.imshow(img2)\n",
    "plt.show()"
   ]
  },
  {
   "cell_type": "code",
   "execution_count": null,
   "metadata": {},
   "outputs": [],
   "source": [
    "for i in range(len(result2)):\n",
    "  top_left = tuple(result2[i][0][0])\n",
    "  bottom_right = tuple(result2[i][0][2])\n",
    "  img = cv2.rectangle(img2,top_left,bottom_right,(255,0,0),3)\n",
    "\n",
    "plt.imshow(img2)\n",
    "plt.show()"
   ]
  },
  {
   "cell_type": "code",
   "execution_count": null,
   "metadata": {},
   "outputs": [],
   "source": [
    "import cv2\n",
    "import easyocr\n",
    "\n",
    "# Baca gambar\n",
    "image = img_path2\n",
    "\n",
    "# Pra-pemrosesan gambar jika diperlukan\n",
    "\n",
    "# Inisialisasi OCR\n",
    "reader = easyocr.Reader(['en'])\n",
    "\n",
    "# Gunakan OCR untuk membaca teks\n",
    "result2 = reader.readtext(image)\n",
    "\n",
    "# Filter hasil OCR untuk mendapatkan hanya plat nomor\n",
    "filtered_result2 = [item[1] for item in result2]\n",
    "\n",
    "# Cetak hasil\n",
    "for plat_nomor in filtered_result2:\n",
    "    print(plat_nomor)"
   ]
  },
  {
   "attachments": {},
   "cell_type": "markdown",
   "metadata": {},
   "source": [
    "# MULTIPROCESSING & SERIAL"
   ]
  },
  {
   "cell_type": "code",
   "execution_count": null,
   "metadata": {},
   "outputs": [],
   "source": [
    "from tqdm import tqdm\n",
    "\n",
    "# Definisikan gambarnya kembali\n",
    "img_path = 'plat nomor.jpg'\n",
    "img_path2 = 'plat nomor 2.jpg'\n",
    "\n",
    "# Function to process the image and return the OCR result\n",
    "def process_image(image_path):\n",
    "    reader = easyocr.Reader(['en'])\n",
    "    result = reader.readtext(image_path)\n",
    "    return result\n",
    "\n",
    "# Menjadikan gambarnya menjadi satu path\n",
    "image_paths = [img_path, img_path2]\n",
    "\n",
    "# Jumlah processor yang digunakan\n",
    "num_processors = [1, 2, 4, 8, 16, 32]\n",
    "\n",
    "total_elapsed_time = 0\n",
    "serial_execution_time = 0\n",
    "speedup_scores_amdahl = []\n",
    "speedup_scores_gustafson = []\n",
    "speedup_scores_sun_ni = []\n",
    "\n",
    "for num_procs in num_processors:\n",
    "    # Menginisiasikan Pool agar dapat memanipulasi proses dengan Multiprocessing\n",
    "    pool = multiprocessing.Pool(processes=num_procs)\n",
    "\n",
    "    # Waktu proses dimulai\n",
    "    start_time = time.time()\n",
    "\n",
    "    # Proseskan gambar secara Pararel dengan tambahan tqdm\n",
    "    results = list(tqdm(pool.imap(process_image, image_paths), total=len(image_paths), desc=f\"Jalan dengan {num_procs} Prosesor\"))\n",
    "\n",
    "    # Waktu proses berakhir\n",
    "    end_time = time.time()\n",
    "\n",
    "    # Menghitung waktu proses\n",
    "    elapsed_time = end_time - start_time\n",
    "    total_elapsed_time += elapsed_time\n",
    "\n",
    "    # Menutup proses\n",
    "    pool.close()\n",
    "\n",
    "    # Menyimpan hasil dari pemrosesan OCR dengan serial \"Pickel\" (SERIAL)\n",
    "    for i, result in enumerate(results):\n",
    "        serialized_result = pickle.dumps(result)\n",
    "        file_name = f'serialized_result_{i+1}_procs_{num_procs}.pkl'\n",
    "        with open(file_name, 'wb') as f:\n",
    "            f.write(serialized_result)\n",
    "\n",
    "    # Menampilkan hasil dari Waktu proses dan SpeedUp dari program diatas\n",
    "    print(f\"\")\n",
    "    print(f\"\")\n",
    "    tqdm.write(f\"Waktu yang digunakan: {elapsed_time} detik\")\n",
    "    serial_execution_time = elapsed_time / num_procs  # Serial execution time for single processor\n",
    "    parallel_execution_time = elapsed_time - serial_execution_time  # Parallel execution time for multiple processors\n",
    "    p = serial_execution_time / elapsed_time  # Proporsi bagian yang tidak dapat di-paralelkan\n",
    "    speedup_amdahl = 1 / (1 - p + (p / num_procs))  # Speedup score using Amdahl's Law\n",
    "    speedup_gustafson = num_procs + (1 - p) * num_procs  # Speedup score using Gustafson's Law\n",
    "    speedup_sun_ni = serial_execution_time / (serial_execution_time + (parallel_execution_time / num_procs))  # Speedup score using Sun and Ni's Law\n",
    "    tqdm.write(f\"Hasil Skor Speed Up dengan teori amdahl: {speedup_amdahl}\")\n",
    "    tqdm.write(f\"Hasil Skor Speed Up dengan teori gustafson: {speedup_gustafson}\")\n",
    "    tqdm.write(f\"Hasil Skor Speed Up dengan teori sun & ni: {speedup_sun_ni}\")\n",
    "    speedup_scores_amdahl.append(speedup_amdahl)\n",
    "    speedup_scores_sun_ni.append(speedup_sun_ni)\n",
    "    speedup_scores_gustafson.append(speedup_gustafson)\n",
    "\n",
    "# Menampilkan total waktu menjalankan semua proses pada semua processor\n",
    "tqdm.write(f\"Total waktu menjalankan semua proses: {total_elapsed_time} detik\")"
   ]
  },
  {
   "cell_type": "code",
   "execution_count": null,
   "metadata": {},
   "outputs": [],
   "source": [
    "# Plotting the speedup values\n",
    "plt.plot(num_processors, speedup_scores_amdahl, marker='o')\n",
    "plt.xlabel('Number of Processors')\n",
    "plt.ylabel('Speedup (seconds per image)')\n",
    "plt.title('Hasil Algoritma Speedup berdasarkan jumlah processor menggunakan teori Amdahl')\n",
    "plt.grid(True)\n",
    "plt.show()"
   ]
  },
  {
   "cell_type": "code",
   "execution_count": null,
   "metadata": {},
   "outputs": [],
   "source": [
    "# Plotting the speedup values\n",
    "plt.plot(num_processors, speedup_scores_gustafson, marker='o')\n",
    "plt.xlabel('Number of Processors')\n",
    "plt.ylabel('Speedup (seconds per image)')\n",
    "plt.title('Hasil Algoritma Speedup berdasarkan jumlah processor menggunakan teori Gustafson')\n",
    "plt.grid(True)\n",
    "plt.show()"
   ]
  },
  {
   "cell_type": "code",
   "execution_count": null,
   "metadata": {},
   "outputs": [],
   "source": [
    "# Plotting the speedup values\n",
    "plt.plot(num_processors, speedup_scores_gustafson, marker='o')\n",
    "plt.xlabel('Number of Processors')\n",
    "plt.ylabel('Speedup (seconds per image)')\n",
    "plt.title('Hasil Algoritma Speedup berdasarkan jumlah processor menggunakan teori Sun&Ni')\n",
    "plt.grid(True)\n",
    "plt.show()"
   ]
  },
  {
   "cell_type": "code",
   "execution_count": null,
   "metadata": {},
   "outputs": [],
   "source": [
    "from tqdm import tqdm\n",
    "\n",
    "num_processors = [1, 2, 4, 8, 16, 32]\n",
    "\n",
    "for num_procs in num_processors:\n",
    "    for i in range(len(image_paths)):\n",
    "        file_name = f'serialized_result_{i+1}_procs_{num_procs}.pkl'\n",
    "        with open(file_name, 'rb') as f:\n",
    "            serialized_result = f.read()\n",
    "\n",
    "        result = pickle.loads(serialized_result)\n",
    "\n",
    "        print(f\"Hasil Serialisasi untuk file {file_name}:\")\n",
    "        for item in tqdm(result, desc=f\"Loading results for {file_name}\"):\n",
    "            print(item)\n",
    "        print()"
   ]
  },
  {
   "attachments": {},
   "cell_type": "markdown",
   "metadata": {},
   "source": [
    "# MULTITHREADING"
   ]
  },
  {
   "cell_type": "code",
   "execution_count": null,
   "metadata": {},
   "outputs": [],
   "source": [
    "from tqdm import tqdm\n",
    "import concurrent.futures\n",
    "\n",
    "# Definisikan gambarnya kembali\n",
    "img_path = 'plat nomor.jpg'\n",
    "img_path2 = 'plat nomor 2.jpg'\n",
    "\n",
    "# Function to process the image and return the OCR result\n",
    "def process_image(image_path):\n",
    "    reader = easyocr.Reader(['en'])\n",
    "    result = reader.readtext(image_path)\n",
    "    return result\n",
    "\n",
    "# Menjadikan gambarnya menjadi satu path\n",
    "image_paths = [img_path, img_path2]\n",
    "\n",
    "# Jumlah thread yang digunakan\n",
    "num_threads = [1, 2, 4, 8, 16, 32]\n",
    "\n",
    "total_elapsed_time = 0\n",
    "serial_execution_time = 0\n",
    "speedup_scores_amdahl = []\n",
    "speedup_scores_gustafson = []\n",
    "speedup_scores_sun_ni = []\n",
    "\n",
    "for num_threads in num_threads:\n",
    "    # Menginisiasikan ThreadPoolExecutor dengan jumlah thread\n",
    "    executor = concurrent.futures.ThreadPoolExecutor(max_workers=num_threads)\n",
    "\n",
    "    # Waktu proses dimulai\n",
    "    start_time = time.time()\n",
    "\n",
    "    # Melakukan proses dari gambar dengan multithreading\n",
    "    futures = [executor.submit(process_image, image_path) for image_path in image_paths]\n",
    "\n",
    "    # Menunggu hingga semua proses selesai\n",
    "    concurrent.futures.wait(futures)\n",
    "\n",
    "    # Mengumpulkan hasil dari setiap future\n",
    "    results = [future.result() for future in futures]\n",
    "\n",
    "    # Waktu proses berakhir\n",
    "    end_time = time.time()\n",
    "\n",
    "    # Menghitung waktu proses\n",
    "    elapsed_time = end_time - start_time\n",
    "    total_elapsed_time += elapsed_time\n",
    "\n",
    "    # Menampilkan hasil dari Waktu proses dan SpeedUp dari program diatas\n",
    "    print(f\"\")\n",
    "    print(f\"\")\n",
    "    tqdm.write(f\"Jumlah Thread yg dijalankan: {num_threads} thread(s)\")\n",
    "    tqdm.write(f\"Waktu yang digunakan: {elapsed_time} detik\")\n",
    "    serial_execution_time = elapsed_time / num_threads  # Serial execution time for single thread\n",
    "    parallel_execution_time = elapsed_time - serial_execution_time  # Parallel execution time for multiple threads\n",
    "    p = serial_execution_time / elapsed_time  # Proporsi bagian yang tidak dapat di-paralelkan\n",
    "    speedup_amdahl = 1 / (1 - p + (p / num_threads))  # Speedup score using Amdahl's Law\n",
    "    speedup_gustafson = num_threads - p * (num_threads - 1)  # Speedup score using Gustafson's Law\n",
    "    speedup_sun_ni = serial_execution_time / (serial_execution_time + (parallel_execution_time / num_threads))  # Speedup score using Sun and Ni's Law\n",
    "    tqdm.write(f\"Hasil Skor Speed Up dengan teori amdahl: {speedup_amdahl}\")\n",
    "    tqdm.write(f\"Hasil Skor Speed Up dengan teori gustafson: {speedup_gustafson}\")\n",
    "    tqdm.write(f\"Hasil Skor Speed Up dengan teori sun & ni: {speedup_sun_ni}\")\n",
    "    speedup_scores_amdahl.append(speedup_amdahl)\n",
    "    speedup_scores_sun_ni.append(speedup_sun_ni)\n",
    "    speedup_scores_gustafson.append(speedup_gustafson)\n",
    "\n",
    "# Menampilkan total waktu menjalankan semua proses pada semua thread\n",
    "tqdm.write(f\"Total waktu menjalankan semua proses: {total_elapsed_time} detik\")\n"
   ]
  },
  {
   "cell_type": "code",
   "execution_count": null,
   "metadata": {},
   "outputs": [],
   "source": [
    "# Plotting the speedup values\n",
    "plt.plot(num_processors, speedup_scores_amdahl, marker='o')\n",
    "plt.xlabel('Number of Processors')\n",
    "plt.ylabel('Speedup (seconds per image)')\n",
    "plt.title('Hasil Algoritma Speedup berdasarkan jumlah processor menggunakan teori Amdahl')\n",
    "plt.grid(True)\n",
    "plt.show()"
   ]
  },
  {
   "cell_type": "code",
   "execution_count": null,
   "metadata": {},
   "outputs": [],
   "source": [
    "# Plotting the speedup values\n",
    "plt.plot(num_processors, speedup_scores_gustafson, marker='o')\n",
    "plt.xlabel('Number of Processors')\n",
    "plt.ylabel('Speedup (seconds per image)')\n",
    "plt.title('Hasil Algoritma Speedup berdasarkan jumlah processor menggunakan teori gustafson')\n",
    "plt.grid(True)\n",
    "plt.show()"
   ]
  },
  {
   "cell_type": "code",
   "execution_count": null,
   "metadata": {},
   "outputs": [],
   "source": [
    "# Plotting the speedup values\n",
    "plt.plot(num_processors, speedup_scores_sun_ni, marker='o')\n",
    "plt.xlabel('Number of Processors')\n",
    "plt.ylabel('Speedup (seconds per image)')\n",
    "plt.title('Hasil Algoritma Speedup berdasarkan jumlah processor menggunakan teori sun&ni')\n",
    "plt.grid(True)\n",
    "plt.show()"
   ]
  }
 ],
 "metadata": {
  "language_info": {
   "name": "python"
  },
  "orig_nbformat": 4
 },
 "nbformat": 4,
 "nbformat_minor": 2
}
